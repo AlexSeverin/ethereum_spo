pip install web3==4.2.1
